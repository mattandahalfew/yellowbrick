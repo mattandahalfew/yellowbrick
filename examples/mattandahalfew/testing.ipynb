{
 "cells": [
  {
   "cell_type": "code",
   "execution_count": 6,
   "metadata": {
    "collapsed": true,
    "deletable": true,
    "editable": true
   },
   "outputs": [],
   "source": [
    "import numpy as np"
   ]
  },
  {
   "cell_type": "markdown",
   "metadata": {},
   "source": [
    "# Predicting credit default\n",
    "This dataset includes 30000 observations and whether or not they defaulted on their credit card. Observations include data such as credit limit, age, sex, highest education reached, and marital status. The dataset was obtained from the Tests section of Yellowbrick."
   ]
  },
  {
   "cell_type": "code",
   "execution_count": 8,
   "metadata": {
    "collapsed": true
   },
   "outputs": [],
   "source": [
    "import numpy.matlib"
   ]
  },
  {
   "cell_type": "code",
   "execution_count": 5,
   "metadata": {
    "collapsed": false,
    "deletable": true,
    "editable": true
   },
   "outputs": [
    {
     "name": "stderr",
     "output_type": "stream",
     "text": [
      "/usr/local/lib/python3.5/dist-packages/matplotlib/__init__.py:1401: UserWarning:  This call to matplotlib.use() has no effect\n",
      "because the backend has already been chosen;\n",
      "matplotlib.use() must be called *before* pylab, matplotlib.pyplot,\n",
      "or matplotlib.backends is imported for the first time.\n",
      "\n",
      "  warnings.warn(_use_error_msg)\n",
      "/usr/local/lib/python3.5/dist-packages/matplotlib/__init__.py:1401: UserWarning:  This call to matplotlib.use() has no effect\n",
      "because the backend has already been chosen;\n",
      "matplotlib.use() must be called *before* pylab, matplotlib.pyplot,\n",
      "or matplotlib.backends is imported for the first time.\n",
      "\n",
      "  warnings.warn(_use_error_msg)\n"
     ]
    }
   ],
   "source": [
    "from sklearn.svm import LinearSVC\n",
    "from tests.dataset import DatasetMixin\n",
    "import matplotlib\n",
    "matplotlib.use('Gtk3Agg')"
   ]
  },
  {
   "cell_type": "code",
   "execution_count": 1,
   "metadata": {
    "collapsed": false,
    "deletable": true,
    "editable": true,
    "scrolled": true
   },
   "outputs": [
    {
     "name": "stderr",
     "output_type": "stream",
     "text": [
      "/usr/local/lib/python3.5/dist-packages/sklearn/cross_validation.py:44: DeprecationWarning: This module was deprecated in version 0.18 in favor of the model_selection module into which all the refactored classes and functions are moved. Also note that the interface of the new CV iterators are different from that of this module. This module will be removed in 0.20.\n",
      "  \"This module will be removed in 0.20.\", DeprecationWarning)\n"
     ]
    }
   ],
   "source": [
    "from yellowbrick.classifier import ROCAUC"
   ]
  },
  {
   "cell_type": "code",
   "execution_count": 2,
   "metadata": {
    "collapsed": true,
    "deletable": true,
    "editable": true
   },
   "outputs": [],
   "source": [
    "def add_column(data_array,new_column):\n",
    "    nc = np.reshape(new_column,(-1,1))\n",
    "    if data_array is None:\n",
    "        return nc\n",
    "    else:\n",
    "        return np.concatenate((data_array,nc),axis=1)"
   ]
  },
  {
   "cell_type": "code",
   "execution_count": 3,
   "metadata": {
    "collapsed": true
   },
   "outputs": [],
   "source": [
    "def add_categorical(data_array,new_column,datatype):\n",
    "    nc = np.reshape(new_column,(-1,1))\n",
    "    unq = np.unique(new_column)\n",
    "    nrows = np.size(new_column)\n",
    "    new_columns = None\n",
    "\n",
    "    for y in unq:\n",
    "        newcol = np.zeros((nrows,1),dtype=datatype)\n",
    "        newcol[np.where(nc==y)] = 1\n",
    "        if new_columns is None:\n",
    "            new_columns = newcol\n",
    "        else:\n",
    "            new_columns = np.concatenate((new_columns,newcol),axis=1)\n",
    "\n",
    "    if data_array is None:\n",
    "        return new_columns\n",
    "    else:\n",
    "        return np.concatenate((data_array,new_columns),axis=1)"
   ]
  },
  {
   "cell_type": "code",
   "execution_count": 7,
   "metadata": {
    "collapsed": false
   },
   "outputs": [],
   "source": [
    "datasets = DatasetMixin()\n",
    "credit = datasets.load_data('credit')\n",
    "credit_keys = credit.dtype.names\n",
    "datatype = credit.dtype[0]\n",
    "ncols = len(credit_keys)\n",
    "categorical_names = ['edu','married']\n",
    "y_name = 'default'\n",
    "credit_data = None\n",
    "for j in range(0,ncols):\n",
    "    if credit_keys[j] in categorical_names:\n",
    "        credit_data = add_categorical(credit_data,credit[credit_keys[j]],datatype)\n",
    "    elif credit_keys[j] == y_name:\n",
    "        y = credit[y_name].astype(int)\n",
    "    else:\n",
    "        credit_data = add_column(credit_data,credit[credit_keys[j]])"
   ]
  },
  {
   "cell_type": "code",
   "execution_count": 9,
   "metadata": {
    "collapsed": true
   },
   "outputs": [],
   "source": [
    "datashape = credit_data.shape\n",
    "nrows = datashape[0]"
   ]
  },
  {
   "cell_type": "code",
   "execution_count": 10,
   "metadata": {
    "collapsed": false
   },
   "outputs": [
    {
     "name": "stdout",
     "output_type": "stream",
     "text": [
      "30000\n"
     ]
    }
   ],
   "source": [
    "print(str(nrows))"
   ]
  },
  {
   "cell_type": "code",
   "execution_count": 11,
   "metadata": {
    "collapsed": true
   },
   "outputs": [],
   "source": [
    "cmeans = np.mean(credit_data,0)\n",
    "repmeans = numpy.matlib.repmat(cmeans,nrows,1)\n",
    "mydata = credit_data - repmeans\n",
    "sstds = np.std(mydata,0)\n",
    "repstds = numpy.matlib.repmat(sstds,nrows,1)\n",
    "mydata = np.divide(mydata,repstds)"
   ]
  },
  {
   "cell_type": "code",
   "execution_count": 12,
   "metadata": {
    "collapsed": false
   },
   "outputs": [
    {
     "data": {
      "image/png": "[encoded data removed]",
      "text/plain": [
       "<matplotlib.figure.Figure at 0x7fc63be43b00>"
      ]
     },
     "metadata": {},
     "output_type": "display_data"
    }
   ],
   "source": [
    "visualizer = ROCAUC(LinearSVC())\n",
    "visualizer.fit(mydata,y)\n",
    "visualizer.score(mydata,y)\n",
    "visualizer.poof()"
   ]
  },
  {
   "cell_type": "code",
   "execution_count": null,
   "metadata": {
    "collapsed": true
   },
   "outputs": [],
   "source": []
  }
 ],
 "metadata": {
  "kernelspec": {
   "display_name": "Python 3",
   "language": "python",
   "name": "python3"
  },
  "language_info": {
   "codemirror_mode": {
    "name": "ipython",
    "version": 3
   },
   "file_extension": ".py",
   "mimetype": "text/x-python",
   "name": "python",
   "nbconvert_exporter": "python",
   "pygments_lexer": "ipython3",
   "version": "3.5.2"
  }
 },
 "nbformat": 4,
 "nbformat_minor": 2
}
